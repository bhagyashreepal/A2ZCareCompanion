{
  "nbformat": 4,
  "nbformat_minor": 0,
  "metadata": {
    "colab": {
      "provenance": [],
      "authorship_tag": "ABX9TyNQHxxi2oQ72Q/Y4jD2/0Ic",
      "include_colab_link": true
    },
    "kernelspec": {
      "name": "python3",
      "display_name": "Python 3"
    },
    "language_info": {
      "name": "python"
    }
  },
  "cells": [
    {
      "cell_type": "markdown",
      "metadata": {
        "id": "view-in-github",
        "colab_type": "text"
      },
      "source": [
        "<a href=\"https://colab.research.google.com/github/bhagyashreepal/A2ZCareCompanion/blob/main/FirstNotebook.ipynb\" target=\"_parent\"><img src=\"https://colab.research.google.com/assets/colab-badge.svg\" alt=\"Open In Colab\"/></a>"
      ]
    },
    {
      "cell_type": "code",
      "source": [
        "%pip install load_dotenv"
      ],
      "metadata": {
        "colab": {
          "base_uri": "https://localhost:8080/"
        },
        "id": "V7UOk245hNM_",
        "outputId": "04f192ab-6b10-471a-92f7-c4de109564ae"
      },
      "execution_count": 2,
      "outputs": [
        {
          "output_type": "stream",
          "name": "stdout",
          "text": [
            "Collecting load_dotenv\n",
            "  Downloading load_dotenv-0.1.0-py3-none-any.whl.metadata (1.9 kB)\n",
            "Collecting python-dotenv (from load_dotenv)\n",
            "  Downloading python_dotenv-1.1.1-py3-none-any.whl.metadata (24 kB)\n",
            "Downloading load_dotenv-0.1.0-py3-none-any.whl (7.2 kB)\n",
            "Downloading python_dotenv-1.1.1-py3-none-any.whl (20 kB)\n",
            "Installing collected packages: python-dotenv, load_dotenv\n",
            "Successfully installed load_dotenv-0.1.0 python-dotenv-1.1.1\n"
          ]
        }
      ]
    },
    {
      "cell_type": "code",
      "source": [
        "openai migrate"
      ],
      "metadata": {
        "colab": {
          "base_uri": "https://localhost:8080/",
          "height": 108
        },
        "id": "rDMdEurDhq-u",
        "outputId": "18ec72a2-8c51-40b9-9123-a1185581255b"
      },
      "execution_count": 4,
      "outputs": [
        {
          "output_type": "error",
          "ename": "SyntaxError",
          "evalue": "invalid syntax (ipython-input-2463506640.py, line 1)",
          "traceback": [
            "\u001b[0;36m  File \u001b[0;32m\"/tmp/ipython-input-2463506640.py\"\u001b[0;36m, line \u001b[0;32m1\u001b[0m\n\u001b[0;31m    openai migrate\u001b[0m\n\u001b[0m           ^\u001b[0m\n\u001b[0;31mSyntaxError\u001b[0m\u001b[0;31m:\u001b[0m invalid syntax\n"
          ]
        }
      ]
    },
    {
      "cell_type": "code",
      "execution_count": 4,
      "metadata": {
        "colab": {
          "base_uri": "https://localhost:8080/"
        },
        "id": "e7sRr_O8equ1",
        "outputId": "4f611814-ba15-4a64-fda9-2784a7a85a16"
      },
      "outputs": [
        {
          "output_type": "stream",
          "name": "stdout",
          "text": [
            "Requirement already satisfied: openai==0.28 in /usr/local/lib/python3.11/dist-packages (0.28.0)\n",
            "Requirement already satisfied: requests>=2.20 in /usr/local/lib/python3.11/dist-packages (from openai==0.28) (2.32.3)\n",
            "Requirement already satisfied: tqdm in /usr/local/lib/python3.11/dist-packages (from openai==0.28) (4.67.1)\n",
            "Requirement already satisfied: aiohttp in /usr/local/lib/python3.11/dist-packages (from openai==0.28) (3.12.15)\n",
            "Requirement already satisfied: charset-normalizer<4,>=2 in /usr/local/lib/python3.11/dist-packages (from requests>=2.20->openai==0.28) (3.4.2)\n",
            "Requirement already satisfied: idna<4,>=2.5 in /usr/local/lib/python3.11/dist-packages (from requests>=2.20->openai==0.28) (3.10)\n",
            "Requirement already satisfied: urllib3<3,>=1.21.1 in /usr/local/lib/python3.11/dist-packages (from requests>=2.20->openai==0.28) (2.5.0)\n",
            "Requirement already satisfied: certifi>=2017.4.17 in /usr/local/lib/python3.11/dist-packages (from requests>=2.20->openai==0.28) (2025.8.3)\n",
            "Requirement already satisfied: aiohappyeyeballs>=2.5.0 in /usr/local/lib/python3.11/dist-packages (from aiohttp->openai==0.28) (2.6.1)\n",
            "Requirement already satisfied: aiosignal>=1.4.0 in /usr/local/lib/python3.11/dist-packages (from aiohttp->openai==0.28) (1.4.0)\n",
            "Requirement already satisfied: attrs>=17.3.0 in /usr/local/lib/python3.11/dist-packages (from aiohttp->openai==0.28) (25.3.0)\n",
            "Requirement already satisfied: frozenlist>=1.1.1 in /usr/local/lib/python3.11/dist-packages (from aiohttp->openai==0.28) (1.7.0)\n",
            "Requirement already satisfied: multidict<7.0,>=4.5 in /usr/local/lib/python3.11/dist-packages (from aiohttp->openai==0.28) (6.6.3)\n",
            "Requirement already satisfied: propcache>=0.2.0 in /usr/local/lib/python3.11/dist-packages (from aiohttp->openai==0.28) (0.3.2)\n",
            "Requirement already satisfied: yarl<2.0,>=1.17.0 in /usr/local/lib/python3.11/dist-packages (from aiohttp->openai==0.28) (1.20.1)\n",
            "Requirement already satisfied: typing-extensions>=4.2 in /usr/local/lib/python3.11/dist-packages (from aiosignal>=1.4.0->aiohttp->openai==0.28) (4.14.1)\n",
            "{\n",
            "  \"What is Metformin used for?\": \"Metformin is a medication most commonly used to help manage **type 2 diabetes**. It helps lower blood sugar levels by:\\n\\n- Improving the body\\u2019s sensitivity to insulin (so your body uses insulin more effectively)\\n- Decreasing the amount of sugar your liver makes\\n- Reducing the absorption of sugar from the food you eat in your intestines\\n\\n**Other uses:**  \\nMetformin may also be prescribed for conditions such as:\\n- **Polycystic ovarian syndrome (PCOS):** to help regulate menstrual cycles, decrease insulin resistance, and sometimes improve fertility.\\n- **Pre-diabetes:** in some people, to help prevent the progression to type 2 diabetes (though lifestyle changes are the main recommendation).\\n- Rarely, for obesity or other metabolic disturbances (off-label use, as determined by a healthcare provider).\\n\\n**Note:**  \\nMetformin is not usually used for type 1 diabetes.\\n\\nIf you have more questions about how Metformin works or its side effects, feel free to ask!\",\n",
            "  \"What should I do if I miss a dose of Vitamin D?\": \"If you miss a dose of Vitamin D:\\n\\n- Take it as soon as you remember.\\n- However, if it's almost time for your next dose, skip the missed dose and take your next dose at the regular time.\\n- Do **not** take two doses at once to make up for the missed dose.\\n\\nMissing an occasional dose of Vitamin D is usually not serious because it is a fat-soluble vitamin and remains in your body longer than water-soluble vitamins. Try to take it regularly for the best results. If you have any concerns, or if you frequently forget doses, talk to your doctor or pharmacist for advice.\"\n",
            "}\n"
          ]
        }
      ],
      "source": [
        "# GPT Medication Reminder Starter\n",
        "\n",
        "!pip install openai==0.28\n",
        "\n",
        "import os\n",
        "import openai\n",
        "from dotenv import load_dotenv\n",
        "from google.colab import userdata\n",
        "import json\n",
        "\n",
        "load_dotenv()  # load API key from environment\n",
        "\n",
        "openai.api_key = userdata.get('OPENAI_API_KEY')\n",
        "\n",
        "def ask_gpt(question):\n",
        "    response = openai.ChatCompletion.create(\n",
        "        model=\"gpt-4.1\",\n",
        "        messages=[{\"role\": \"system\", \"content\": \"You are a helpful medication assistant.\"},\n",
        "                  {\"role\": \"user\", \"content\": question}]\n",
        "    )\n",
        "    return response.choices[0].message.content\n",
        "\n",
        "# Test questions\n",
        "medq1 = \"What is Metformin used for?\"\n",
        "medq2 = \"What should I do if I miss a dose of Vitamin D?\"\n",
        "\n",
        "answers = {\n",
        "    medq1: ask_gpt(medq1),\n",
        "    medq2: ask_gpt(medq2)\n",
        "}\n",
        "\n",
        "print(json.dumps(answers, indent=2))\n",
        "\n",
        "# Save Q&A to JSON\n",
        "with open(\"gpt_qna.json\", \"w\") as f:\n",
        "    json.dump(answers, f, indent=2)\n"
      ]
    }
  ]
}